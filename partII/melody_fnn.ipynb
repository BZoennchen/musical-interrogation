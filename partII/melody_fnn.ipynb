{
 "cells": [
  {
   "attachments": {},
   "cell_type": "markdown",
   "metadata": {},
   "source": [
    "# Melody Generation using a Simple Feed Forward Net"
   ]
  },
  {
   "cell_type": "code",
   "execution_count": null,
   "metadata": {},
   "outputs": [],
   "source": [
    "import sys\n",
    "sys.path.append(\"..\") \n",
    "\n",
    "import matplotlib.pyplot as plt\n",
    "import music21 as m21\n",
    "import torch\n",
    "import torch.nn.functional as F\n",
    "from preprocess import load_songs_in_kern, NoteEncoder, TERM_SYMBOL"
   ]
  },
  {
   "cell_type": "code",
   "execution_count": null,
   "metadata": {},
   "outputs": [],
   "source": [
    "torch.manual_seed(0);"
   ]
  },
  {
   "cell_type": "code",
   "execution_count": null,
   "metadata": {},
   "outputs": [],
   "source": [
    "encoder = NoteEncoder()\n",
    "scores = load_songs_in_kern('./../deutschl/erk')\n",
    "enc_songs = encoder.encode_songs(scores)\n",
    "\n",
    "symbols = sorted(\n",
    "    list(set([item for sublist in enc_songs for item in sublist])))\n",
    "stoi = {s:i+1 for i, s in enumerate(symbols)}\n",
    "stoi[TERM_SYMBOL] = 0\n",
    "itos = {i: s for s, i in stoi.items()}\n"
   ]
  },
  {
   "cell_type": "code",
   "execution_count": null,
   "metadata": {},
   "outputs": [],
   "source": [
    "scores[0].show('midi')"
   ]
  },
  {
   "cell_type": "code",
   "execution_count": null,
   "metadata": {},
   "outputs": [],
   "source": [
    "if torch.cuda.is_available():\n",
    "    device = torch.device('cuda')\n",
    "elif torch.backends.mps.is_available():\n",
    "    device = torch.device('mps')\n",
    "else:\n",
    "    device = torch.device('cpu')\n",
    "    \n",
    "print(f'{device=}')"
   ]
  },
  {
   "cell_type": "code",
   "execution_count": null,
   "metadata": {},
   "outputs": [],
   "source": [
    "xs = []\n",
    "ys = []\n",
    "for m in enc_songs:\n",
    "    chs = [TERM_SYMBOL] + m + [TERM_SYMBOL]\n",
    "    for ch1, ch2 in zip(chs, chs[1:]):\n",
    "        ix1 = stoi[ch1]\n",
    "        ix2 = stoi[ch2]\n",
    "        xs.append(ix1)\n",
    "        ys.append(ix2)\n",
    "\n",
    "xs = torch.tensor(xs, device=device)\n",
    "ys = torch.tensor(ys, device=device)\n",
    "\n",
    "#xs = xs[:1]\n",
    "#ys = ys[:1]\n",
    "# one-hot-encoding\n",
    "xenc = F.one_hot(xs, num_classes=len(stoi)).float()"
   ]
  },
  {
   "cell_type": "code",
   "execution_count": null,
   "metadata": {},
   "outputs": [],
   "source": [
    "W = torch.randn((len(stoi), len(stoi)), requires_grad=True, device=device)\n",
    "W.shape"
   ]
  },
  {
   "cell_type": "code",
   "execution_count": null,
   "metadata": {},
   "outputs": [],
   "source": [
    "# training aka gradient decent\n",
    "epochs = 2_000\n",
    "for k in range(epochs):\n",
    "    # forward pass\n",
    "    logits = xenc @ W\n",
    "    counts = logits.exp()\n",
    "    probs = counts / counts.sum(dim=1, keepdim=True)\n",
    "    loss = -probs[torch.arange(len(ys), device=device), ys].log().mean()\n",
    "\n",
    "    print(f'epoch {k}, loss: {loss.item()}')\n",
    "    \n",
    "    # backward pass\n",
    "    W.grad = None # set gradients to zero\n",
    "    loss.backward()\n",
    "    y = torch.zeros(len(stoi), device=device)\n",
    "    y[ys[0]] = 1\n",
    "    #print(W.grad)\n",
    "    #print(xenc.T @ (probs-y))\n",
    "    #print(torch.allclose(W.grad, xenc.T @ (probs-y)))\n",
    "    # update\n",
    "    W.data += -10.0 * W.grad\n",
    "    \n",
    "# (s-y)*x"
   ]
  },
  {
   "cell_type": "code",
   "execution_count": null,
   "metadata": {},
   "outputs": [],
   "source": [
    "generated_encoded_song = []\n",
    "char = '.'\n",
    "ix = stoi[char]\n",
    "while True:\n",
    "    # sampling similar to forward pass\n",
    "    xenc = F.one_hot(torch.tensor(\n",
    "        [ix], device=device), num_classes=len(stoi)).float()\n",
    "    logits = xenc @ W\n",
    "    counts = logits.exp()\n",
    "    probs = counts / counts.sum(dim=1, keepdim=True)\n",
    "    ix = torch.multinomial(probs, num_samples=1,\n",
    "                           replacement=True).item()\n",
    "    char = itos[ix]\n",
    "    if char == '.':\n",
    "        break\n",
    "    generated_encoded_song.append(char)\n",
    "    # break\n",
    "len(generated_encoded_song)\n"
   ]
  },
  {
   "cell_type": "code",
   "execution_count": null,
   "metadata": {},
   "outputs": [],
   "source": [
    "generated_song = encoder.decode_song(generated_encoded_song)\n",
    "generated_song.show('midi')\n"
   ]
  },
  {
   "cell_type": "code",
   "execution_count": null,
   "metadata": {},
   "outputs": [],
   "source": [
    "W1 = torch.randn((len(stoi), len(stoi)//4), \n",
    "                 requires_grad=True, device=device)\n",
    "W2 = torch.randn((len(stoi)//4, len(stoi)), \n",
    "                 requires_grad=True, device=device)"
   ]
  },
  {
   "cell_type": "code",
   "execution_count": null,
   "metadata": {},
   "outputs": [],
   "source": [
    "# training aka gradient decent\n",
    "epochs = 2_000\n",
    "for k in range(epochs):\n",
    "    # forward pass\n",
    "    x = xenc @ W1\n",
    "    logits = x @ W2\n",
    "    counts = logits.exp()\n",
    "    probs = counts / counts.sum(dim=1, keepdim=True)\n",
    "    loss = -probs[torch.arange(len(ys), device=device), ys].log().mean()\n",
    "\n",
    "    print(f'epoch {k}, loss: {loss.item()}')\n",
    "    \n",
    "    # backward pass\n",
    "    W1.grad = None # set gradients to zero\n",
    "    W2.grad = None # set gradients to zero\n",
    "    loss.backward()\n",
    "    \n",
    "    # update\n",
    "    W1.data += -10.0 * W1.grad\n",
    "    W2.data += -10.0 * W2.grad"
   ]
  }
 ],
 "metadata": {
  "kernelspec": {
   "display_name": "torch-m1",
   "language": "python",
   "name": "python3"
  },
  "language_info": {
   "codemirror_mode": {
    "name": "ipython",
    "version": 3
   },
   "file_extension": ".py",
   "mimetype": "text/x-python",
   "name": "python",
   "nbconvert_exporter": "python",
   "pygments_lexer": "ipython3",
   "version": "3.10.10"
  },
  "orig_nbformat": 4
 },
 "nbformat": 4,
 "nbformat_minor": 2
}
