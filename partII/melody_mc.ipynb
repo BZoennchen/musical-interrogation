{
 "cells": [
  {
   "cell_type": "markdown",
   "metadata": {},
   "source": [
    "<a href=\"https://colab.research.google.com/github/BZoennchen/musical-interrogation/blob/main/partII/melody_mc.ipynb\" target=\"_parent\"><img src=\"https://colab.research.google.com/assets/colab-badge.svg\" alt=\"Open In Colab\"/></a>"
   ]
  },
  {
   "cell_type": "markdown",
   "metadata": {},
   "source": [
    "Die folgenden 6 Zellen sind für die Ausführung im Colab nötig."
   ]
  },
  {
   "cell_type": "code",
   "execution_count": null,
   "metadata": {},
   "outputs": [],
   "source": [
    "#@title clone git repository\n",
    "%%capture\n",
    "!rm -rf musical-interrogation\n",
    "!git clone https://github.com/BZoennchen/musical-interrogation.git"
   ]
  },
  {
   "cell_type": "code",
   "execution_count": null,
   "metadata": {},
   "outputs": [],
   "source": [
    "#@title move into directory\n",
    "%%capture\n",
    "import os\n",
    "import zipfile\n",
    "os.chdir('musical-interrogation/partII')"
   ]
  },
  {
   "cell_type": "code",
   "execution_count": null,
   "metadata": {},
   "outputs": [],
   "source": [
    "#@title install dependencies to play sound\n",
    "%%capture\n",
    "print('installing fluidsynth...')\n",
    "!apt-get install fluidsynth > /dev/null\n",
    "!cp /usr/share/sounds/sf2/FluidR3_GM.sf2 ./font.sf2\n",
    "print('done!')"
   ]
  },
  {
   "cell_type": "code",
   "execution_count": null,
   "metadata": {},
   "outputs": [],
   "source": [
    "#@title install dependencies to show score in music notation\n",
    "%%capture\n",
    "print('installing musescore3...')\n",
    "!apt-get install musescore3 > /dev/null\n",
    "print('done!')"
   ]
  },
  {
   "cell_type": "code",
   "execution_count": null,
   "metadata": {},
   "outputs": [],
   "source": [
    "#@title install python libs\n",
    "%%capture\n",
    "!pip install torch music21 matplotlib fluidsynth midi2audio"
   ]
  },
  {
   "cell_type": "code",
   "execution_count": null,
   "metadata": {
    "scrolled": true
   },
   "outputs": [],
   "source": [
    "#@title download and unzip dataset\n",
    "%%capture\n",
    "!wget https://syncandshare.lrz.de/dl/fiRdUknKuVaq3sjT2PNZax/erk.zip\n",
    "with zipfile.ZipFile('./erk.zip', 'r') as zip_ref:\n",
    "    zip_ref.extractall('./../deutschl/')"
   ]
  },
  {
   "cell_type": "markdown",
   "metadata": {},
   "source": [
    "# Markov-Kette (erster Ordnung)\n",
    "\n",
    "**AICA Crashkurs, Dr. Benedikt Zönnchen**\n",
    "\n",
    "Eine Möglichkeit sich der Problemstellung der Melodiegenerierung zu widmen ist es die bedingte Wahrscheinlichkeit einer bestimmten Note $e_t$ zu bestimmen, welche nach einer bestimmte Sequenz von Noten $e_{1}, \\ldots, e_{t-1}$ folgt:\n",
    "\n",
    "$$P(X_t = e_t | X_{t-1} = e_{t-1},\\ldots,X_1 = e_{1}).$$\n",
    "\n",
    "Kennen wir die Wahrscheinlichkeiten für jede erdenkliche Note, so können wir von dieser Wahrscheinlichkeitsverteilung ziehen!\n",
    "\n",
    "In diesem Notebook betrachten wir lediglich eine Sequenzlänge von 1, d.h.,\n",
    "\n",
    "$$P(X_t = e_t | X_{t-1} = e_{t-1}).$$\n",
    "\n",
    "Wir schätzen diese Wahrscheinlichkeit über die Frequenz der Übergänge von einer Note zur anderen, d.h., wir zählen wie oft ein bestimmter Übergang vorkommt und teilen durch die gesamte Anzahl der Übergänge für eine bestimmte Note.\n",
    "\n",
    "Wir erhalten eine sog. *Markov Matrix* $\\mathbf{P}$, deren Zeile $i$ die Wahrscheinlichkeitsverteilung für eine die Note $i$ angibt. Eintrag $j$ in Zeile $i$ gibt demnach die Wahrscheinlichkeit für den Übergang der Note $i$ nach $j$ an."
   ]
  },
  {
   "cell_type": "code",
   "execution_count": null,
   "metadata": {},
   "outputs": [],
   "source": [
    "import sys\n",
    "sys.path.append(\"..\") # not required in colab\n",
    "\n",
    "import matplotlib.pyplot as plt\n",
    "import music21 as m21\n",
    "import torch\n",
    "from preprocess import load_songs_in_kern, NoteEncoder, StringToIntEncoder, TERM_SYMBOL\n",
    "\n",
    "from utils import score_to_wav\n",
    "from IPython.display import Audio\n",
    "\n",
    "torch.manual_seed(0);"
   ]
  },
  {
   "cell_type": "markdown",
   "metadata": {},
   "source": [
    "## 1. Datenvorbereitung\n",
    "\n",
    "Zunächst laden wir unsere (1700 **einstimmigen**) Musikstücke aus denen wir die Frequenzen berechnen wollen."
   ]
  },
  {
   "cell_type": "code",
   "execution_count": null,
   "metadata": {},
   "outputs": [],
   "source": [
    "# this takes a while\n",
    "scores = load_songs_in_kern('./../deutschl/erk')"
   ]
  },
  {
   "cell_type": "markdown",
   "metadata": {},
   "source": [
    "Wir können uns eines der Musikstücke anhören oder auch anzeigen lassen."
   ]
  },
  {
   "cell_type": "code",
   "execution_count": null,
   "metadata": {},
   "outputs": [],
   "source": [
    "Audio(score_to_wav(scores[0], 'score1.wav'))"
   ]
  },
  {
   "cell_type": "code",
   "execution_count": null,
   "metadata": {
    "scrolled": false
   },
   "outputs": [],
   "source": [
    "scores[0].show()"
   ]
  },
  {
   "cell_type": "markdown",
   "metadata": {},
   "source": [
    "Als nächstes verwandeln wir die Noten in gut leserliche Zeichenketten, wobei jede Note durch genau eine Zeichenkette repräsentiert wird und zwar der Form ``MIDI-Tonhöhe/Länge in vielfaches von time_step``.\n",
    "\n",
    "Dies übernimmt der ``NoteEncoder``. Dieser transponiert die Musikstücke zusätzlich nach C-Dur.\n",
    "Zusätzlich filtert er Musikstücke heraus, welche wir mit unserem ``time_step`` nicht abbilden können.\n",
    "Z.B. wenn ``time_step = 1/8`` dann können wir keine ``1/16``-Noten oder auch ``1/8 + 1/16``-Noten abbilden. "
   ]
  },
  {
   "cell_type": "code",
   "execution_count": null,
   "metadata": {},
   "outputs": [],
   "source": [
    "# this takes a while\n",
    "time_step = 1/8\n",
    "print(f'one timestep represents {time_step} beats')\n",
    "\n",
    "encoder = NoteEncoder(time_step)\n",
    "enc_songs, invalid_song_indices = encoder.encode_songs(scores)\n",
    "\n",
    "print(f'there are {len(enc_songs)} valid songs and {len(invalid_song_indices)} songs')"
   ]
  },
  {
   "cell_type": "code",
   "execution_count": null,
   "metadata": {},
   "outputs": [],
   "source": [
    "' '.join(enc_songs[0])"
   ]
  },
  {
   "cell_type": "code",
   "execution_count": null,
   "metadata": {
    "scrolled": false
   },
   "outputs": [],
   "source": [
    "print(f'longest melody: {max(len(m) for m in enc_songs)}')\n",
    "print(f'shortest melody: {min(len(m) for m in enc_songs)}')"
   ]
  },
  {
   "cell_type": "markdown",
   "metadata": {},
   "source": [
    "Da der Computer besser mit Zahlen umgehen kann bauen wir uns eine Abbildung von den jeweiligen Zeichenketten zu Zahlen $$\\{0, 1, 2, \\ldots, m-1\\}$$ und umgekehrt. Dies übernimmt ``StringToIntEncoder``:"
   ]
  },
  {
   "cell_type": "code",
   "execution_count": null,
   "metadata": {},
   "outputs": [],
   "source": [
    "string_to_int = StringToIntEncoder(enc_songs)\n",
    "print(f'number of unique symbols: {len(string_to_int)}')\n",
    "encoded_symbol = string_to_int.encode(enc_songs[0][0])\n",
    "print(f'symbol {enc_songs[0][0]} is encoded to {encoded_symbol}')\n",
    "print(f'encoded symbol {encoded_symbol} is decoded to {string_to_int.decode(encoded_symbol)}')"
   ]
  },
  {
   "cell_type": "markdown",
   "metadata": {},
   "source": [
    "## 2. Konstruktion der Markov-Matrix\n",
    "\n",
    "Sei $m$ die Anzahl der verschiedenen Noten, so benötigen wir eine Matrix $\\mathbf{P}$ mit $m$ Zeilen und $m$ Spalten.\n",
    "Wir erstellen erst eine Matrix $\\mathbf{N}$ um die Übergänge zu zählen. Wir benötigen noch zwei spezielle Übergänge:\n",
    "\n",
    "1. Keine Note zu Note (für den Anfang eines Musikstücks)\n",
    "2. Note zu keine Note (für den Ende)\n",
    "\n",
    "Dafür verwenden wir ein spezielles Symbol ``TERM_SYMBOL``, welches der ``StringToIntEncoder`` bereits berücksichtigt."
   ]
  },
  {
   "cell_type": "code",
   "execution_count": null,
   "metadata": {},
   "outputs": [],
   "source": [
    "# create an matrix m times m matrix containing zeros.\n",
    "m = len(string_to_int)\n",
    "N = torch.zeros((m, m)) \n",
    "\n",
    "# for each note/event e_i followed by e_j increase the matrix component n_ij by 1\n",
    "for enc_song in enc_songs:\n",
    "    chs = [TERM_SYMBOL] + enc_song + [TERM_SYMBOL]\n",
    "    for ch1, ch2 in zip(chs, chs[1:]):\n",
    "        ix1 = string_to_int.encode(ch1)\n",
    "        ix2 = string_to_int.encode(ch2)\n",
    "        N[ix1, ix2] += 1"
   ]
  },
  {
   "cell_type": "markdown",
   "metadata": {},
   "source": [
    "Im zweiten Schritt berechnen wir die Markov-Matrix $P$ indem wir die Häufigkeit der Übergänge durch die Zahl der Gesamtenübergänge dividieren. D.h. wir dividieren jeden Eintrag der Matrix durch die Summe der jeweiligen Zeile."
   ]
  },
  {
   "cell_type": "code",
   "execution_count": null,
   "metadata": {},
   "outputs": [],
   "source": [
    "P = N.float()\n",
    "P = P / P.sum(dim=1, keepdim=True)"
   ]
  },
  {
   "cell_type": "markdown",
   "metadata": {},
   "source": [
    "Wir können diese große Matrix auch visualisieren und sehen, dass sehr viele Einträge 0 sind."
   ]
  },
  {
   "cell_type": "code",
   "execution_count": null,
   "metadata": {
    "scrolled": false
   },
   "outputs": [],
   "source": [
    "plt.rcParams.update({'font.size': 6})\n",
    "plt.figure(figsize=(8, 8))\n",
    "plt.imshow(P, cmap='Blues')"
   ]
  },
  {
   "cell_type": "markdown",
   "metadata": {},
   "source": [
    "Wir sehe in der Visualisierung, dass die Wahrscheinlichkeiten in der Nähe der Diagonalen groß sind. Dies liegt daran, dass die Matrix nach Tonhöhen sortiert ist und große Sprünge in Melodien unüblich sind. Zusätzlich sehen wir eine Spalte (weit rechts) und eine Zeile (weit unten) mit höheren Wahrscheinlichkeiten. Dies ist vermutlich die Spalte die **Note nach keine Note** bzw. **Keine Note nach Note** repräsentiert."
   ]
  },
  {
   "cell_type": "markdown",
   "metadata": {},
   "source": [
    "## 3. Melodiegenerierung\n",
    "\n",
    "Gegeben einer Sequenz beliebiger Länge, dient die Funktion ``generate`` der Generierung eines neues neuen Musikstücks.\n",
    "\n",
    "Mit $\\mathbf{P}$ können wir nun neue Melodien generieren.\n",
    "Wir starten mit dem speziellen Symbol $e_1$ = ``TERM_SYMBOL`` (\"Beginn des Stücks\") als unsere erste Note/Event $e_1$. Dann berechnen wir $e_2$ aus der bedingten Verteilung $P(X_2 = e_2 | X_1 = e_1)$, gegeben durch die Zeile, die zu $e_1$ gehört. Als nächstes berechnen wir $e_3$ durch $P(X_2 = e_3 | X_1 = e_2)$.\n",
    "Diesen Vorgang führen wir so lange fort bis wir irgendwann ``TERM_SYMBOL`` ziehen.\n",
    "\n",
    "``temperature`` bestimmt wie stark die vom Modell gelernte Wahrscheinlichkeitsverteilung beachtet wird.\n",
    "\n",
    "+ ``temperature`` gleich 1.0 bedeutet, dass von der Wahrscheinlichkeitsverteilung gesampelt wird.\n",
    "+ ``temperature`` gegen unendlich bedeutet, dass gleichverteilt gesampelt wird (mehr Variation)\n",
    "+ ``temperature`` gegen 0 bedeutet, dass die hohe Wahrscheinlichkeiten verstärkt werden (weniger Variation)\n",
    "\n",
    "Sie können eine maximale Länge des Stücks festlegen und auch einen Anfang eines Stücks mitliefern."
   ]
  },
  {
   "cell_type": "code",
   "execution_count": null,
   "metadata": {},
   "outputs": [],
   "source": [
    "def next_event_number(char:str, temperature:float):\n",
    "    distribution = P[string_to_int.encode(char)] / temperature\n",
    "    ix = torch.multinomial(distribution, num_samples=1, replacement=True).item()\n",
    "    return ix"
   ]
  },
  {
   "cell_type": "code",
   "execution_count": null,
   "metadata": {},
   "outputs": [],
   "source": [
    "def generate(seq: list[str]=None, max_len:int=None, temperature:float=1.0):\n",
    "    generated_encoded_song = []\n",
    "    if seq != None:\n",
    "        generated_encoded_song = seq.copy()\n",
    "    char = TERM_SYMBOL\n",
    "    while max_len == None or max_len > len(generated_encoded_song):\n",
    "        ix = next_event_number(char, temperature)\n",
    "        char = string_to_int.decode(ix)\n",
    "        if char == TERM_SYMBOL:\n",
    "            break\n",
    "        generated_encoded_song.append(char)\n",
    "    return generated_encoded_song"
   ]
  },
  {
   "cell_type": "code",
   "execution_count": null,
   "metadata": {},
   "outputs": [],
   "source": [
    "# number of songs we want to generate\n",
    "n_scores = 5\n",
    "\n",
    "generated_encoded_songs = []\n",
    "for _ in range(n_scores):\n",
    "    encoded_song = generate(max_len=120)\n",
    "    print(f'generated {\" \".join(encoded_song)} conisting of {len(encoded_song)} notes')\n",
    "    generated_encoded_songs.append(encoded_song)"
   ]
  },
  {
   "cell_type": "markdown",
   "metadata": {},
   "source": [
    "## 4. Datennachbearbeitung\n",
    "\n",
    "Wir wollen uns die generierten Stücke natürlich anhören. Der ``NoteEncoder`` kann dies für uns übernehmen."
   ]
  },
  {
   "cell_type": "code",
   "execution_count": null,
   "metadata": {},
   "outputs": [],
   "source": [
    "generated_scores = encoder.decode_songs(generated_encoded_songs)"
   ]
  },
  {
   "cell_type": "code",
   "execution_count": null,
   "metadata": {},
   "outputs": [],
   "source": [
    "Audio(score_to_wav(generated_scores[0], 'g_score1.wav'))"
   ]
  },
  {
   "cell_type": "code",
   "execution_count": null,
   "metadata": {
    "scrolled": true
   },
   "outputs": [],
   "source": [
    "generated_scores[0].show()"
   ]
  },
  {
   "cell_type": "markdown",
   "metadata": {},
   "source": [
    "# Fragen\n",
    "\n",
    "+ Es scheint so als ließe sich diese Methode verbessern indem wir Markov-Ketten höherer Ordnung verwenden. Welche Probleme treten dann auf?"
   ]
  }
 ],
 "metadata": {
  "kernelspec": {
   "display_name": "Python 3 (ipykernel)",
   "language": "python",
   "name": "python3"
  },
  "language_info": {
   "codemirror_mode": {
    "name": "ipython",
    "version": 3
   },
   "file_extension": ".py",
   "mimetype": "text/x-python",
   "name": "python",
   "nbconvert_exporter": "python",
   "pygments_lexer": "ipython3",
   "version": "3.10.10"
  }
 },
 "nbformat": 4,
 "nbformat_minor": 2
}
